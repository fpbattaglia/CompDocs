{
 "cells": [
  {
   "cell_type": "markdown",
   "metadata": {},
   "source": [
    "Parallel work on the cluster with IPython Notebook\n",
    "==================================================\n",
    "\n",
    "Here we will see how to use IPython notebook to parallelize your work\n",
    "This notebook is meant to be run on patron. \n",
    "\n",
    "Configuring IPython for Cluster work\n",
    "------------------------------------\n",
    "\n",
    "IPython handles cluster work in a fairly automated way. But first you need to take care of some configuration. \n",
    "The procedure here is adapted from (http://ipython.org/ipython-doc/stable/parallel/parallel_intro.html)\n",
    "and from http://ipython.org/ipython-doc/stable/parallel/parallel_process.html). \n",
    "From patron, you need to run \n",
    "> jupyter profile create --parallel --profile=ssh\n",
    "\n",
    "this will create, in your home directory, the directory ~/.ipython/profile_ssh\n",
    "\n",
    "In this directory, you need to make some changes. \n",
    "You can do that by overwriting the files ipcontroller_config.py and ipcluster_config.py with the version in this repo (profile_ssh folder).\n",
    "\n",
    "In terms of configuration you are all set. You need to go through this step only once. \n",
    "\n",
    "\n",
    "Starting Python Notebook\n",
    "------------------------\n",
    "\n",
    "Still from patron, start the notebook server with \n",
    "> ipython notebook --no-browser --port=62000\n",
    "\n",
    "The 62000 is a high range port chosen so that it doesn't upset the security settings of the cluster and the science firewall\n",
    "\n",
    "you can then connect (from the Science network, or Science VPN) from your browser, by pointing it to \n",
    "> http://patron.science.ru.nl:62000\n",
    "\n",
    "The Home window of IPython notebook will show up. Got to the \"clusters\" tab. \n",
    "You should see two profiles, \"default\" and \"pbs\". From \"pbs\" choose the number of hosts you want to have (how many CPUs you want to use in parallel), e.g. 8 or 16. Click \"Start\". The cluster should be ready\n"
   ]
  },
  {
   "cell_type": "markdown",
   "metadata": {},
   "source": [
    "Parallel code in a notebook\n",
    "---------------------------\n",
    "\n",
    "Here you prepare the itnerface to the cluster, the Client object defined below"
   ]
  },
  {
   "cell_type": "code",
   "execution_count": 2,
   "metadata": {
    "collapsed": false
   },
   "outputs": [],
   "source": [
    "from ipyparallel import Client\n",
    "c = Client(profile='ssh')"
   ]
  },
  {
   "cell_type": "markdown",
   "metadata": {},
   "source": [
    "Now let's define some relatively lengthy calculation"
   ]
  },
  {
   "cell_type": "code",
   "execution_count": 3,
   "metadata": {
    "collapsed": true
   },
   "outputs": [],
   "source": [
    "def some_calculations():\n",
    "    import numpy as np\n",
    "    a = np.random.uniform(size=[1000,1000])\n",
    "    for i in range(50):\n",
    "        b = np.dot(a,a)\n",
    "    return b"
   ]
  },
  {
   "cell_type": "markdown",
   "metadata": {},
   "source": [
    "Let's see how long it takes. This runs on the frontend node "
   ]
  },
  {
   "cell_type": "code",
   "execution_count": 4,
   "metadata": {
    "collapsed": false
   },
   "outputs": [
    {
     "name": "stdout",
     "output_type": "stream",
     "text": [
      "1 loops, best of 3: 6.88 s per loop\n"
     ]
    }
   ],
   "source": [
    "%timeit some_calculations()"
   ]
  },
  {
   "cell_type": "markdown",
   "metadata": {},
   "source": [
    "Now for the cool part. The instruction below (%timeit is just to compute the execution time) runs the same code 8 times in parallel, on 8 compute nodes. You can see that it is much faster, even though it's doing 8 times as much work!"
   ]
  },
  {
   "cell_type": "code",
   "execution_count": 5,
   "metadata": {
    "collapsed": false
   },
   "outputs": [
    {
     "name": "stdout",
     "output_type": "stream",
     "text": [
      "1 loops, best of 3: 7.76 s per loop\n"
     ]
    }
   ],
   "source": [
    "%timeit c[:].apply_sync(some_calculations)"
   ]
  },
  {
   "cell_type": "markdown",
   "metadata": {},
   "source": [
    "Of course, you don't have to repeat the same code on all the compute node, which is pointless... "
   ]
  },
  {
   "cell_type": "markdown",
   "metadata": {},
   "source": [
    "Here we create a view to our cluster"
   ]
  },
  {
   "cell_type": "code",
   "execution_count": 6,
   "metadata": {
    "collapsed": true
   },
   "outputs": [],
   "source": [
    "dview = c[:]"
   ]
  },
  {
   "cell_type": "code",
   "execution_count": 7,
   "metadata": {
    "collapsed": false
   },
   "outputs": [
    {
     "data": {
      "text/plain": [
       "<DirectView [0, 1, 2, 3,...]>"
      ]
     },
     "execution_count": 7,
     "metadata": {},
     "output_type": "execute_result"
    }
   ],
   "source": [
    "dview"
   ]
  },
  {
   "cell_type": "code",
   "execution_count": 8,
   "metadata": {
    "collapsed": true
   },
   "outputs": [],
   "source": [
    "import numpy as np"
   ]
  },
  {
   "cell_type": "markdown",
   "metadata": {},
   "source": [
    "Let's make a function that take an argument"
   ]
  },
  {
   "cell_type": "code",
   "execution_count": 9,
   "metadata": {
    "collapsed": true
   },
   "outputs": [],
   "source": [
    "def some_other_calculations(e):\n",
    "    import numpy as np\n",
    "    return np.sqrt(e)"
   ]
  },
  {
   "cell_type": "markdown",
   "metadata": {},
   "source": [
    "with map_sync you call the function on a different node, each time with a different argument from the list given as second argument"
   ]
  },
  {
   "cell_type": "code",
   "execution_count": 10,
   "metadata": {
    "collapsed": false
   },
   "outputs": [
    {
     "data": {
      "text/plain": [
       "[1.0,\n",
       " 1.4142135623730951,\n",
       " 1.7320508075688772,\n",
       " 2.0,\n",
       " 2.2360679774997898,\n",
       " 2.4494897427831779,\n",
       " 2.6457513110645907,\n",
       " 2.8284271247461903]"
      ]
     },
     "execution_count": 10,
     "metadata": {},
     "output_type": "execute_result"
    }
   ],
   "source": [
    "dview.map_sync(some_other_calculations, np.arange(1,9))"
   ]
  },
  {
   "cell_type": "markdown",
   "metadata": {},
   "source": [
    "You could give as second argument for example a list of sessions, and you would have them all done in parallel (or at least 8 of them in this case). This is called the \"direct\" cluster interface, where you control each node explicitly. Other interfaces may allow you more flexibility, and for example balance the load between nodes if some jobs are  shorter than other. We'll get to that in another notebook.\n",
    "\n",
    "A typical workflow may imply setting up and debug your analysis on one session interactively, e.g. on your computer, then move the notebook to the cluster and run it on the rest of the data with this mechanism."
   ]
  },
  {
   "cell_type": "code",
   "execution_count": null,
   "metadata": {
    "collapsed": true
   },
   "outputs": [],
   "source": []
  }
 ],
 "metadata": {
  "kernelspec": {
   "display_name": "Python 3",
   "language": "python",
   "name": "python3"
  },
  "language_info": {
   "codemirror_mode": {
    "name": "ipython",
    "version": 3
   },
   "file_extension": ".py",
   "mimetype": "text/x-python",
   "name": "python",
   "nbconvert_exporter": "python",
   "pygments_lexer": "ipython3",
   "version": "3.4.3"
  }
 },
 "nbformat": 4,
 "nbformat_minor": 0
}
